{
 "cells": [
  {
   "cell_type": "markdown",
   "id": "f08b3ec0-bed5-4776-9af8-d4621e09a72e",
   "metadata": {},
   "source": [
    "# Analisis exploratorio de las variables en relación a los Spoilers en comentarios de IMDB"
   ]
  },
  {
   "cell_type": "markdown",
   "id": "97ee358e-25b3-4f17-89b8-51892efa5e23",
   "metadata": {},
   "source": [
    "## 1. Procesamiento de datos"
   ]
  },
  {
   "cell_type": "code",
   "execution_count": 1,
   "id": "0ae260f6-4dfd-47bc-aeed-a50a6dc8629f",
   "metadata": {},
   "outputs": [],
   "source": [
    "# Importamos las librerias generales para el proyecto\n",
    "import pandas as pd\n",
    "import numpy as np\n",
    "import matplotlib.pyplot as plt"
   ]
  },
  {
   "cell_type": "code",
   "execution_count": 2,
   "id": "bbe83dbf-a895-474a-bf96-76a5a3d43226",
   "metadata": {},
   "outputs": [
    {
     "name": "stderr",
     "output_type": "stream",
     "text": [
      "D:\\ProgramData\\Anaconda3\\envs\\data_science\\lib\\site-packages\\IPython\\core\\interactiveshell.py:3444: DtypeWarning: Columns (3) have mixed types.Specify dtype option on import or set low_memory=False.\n",
      "  exec(code_obj, self.user_global_ns, self.user_ns)\n"
     ]
    }
   ],
   "source": [
    "# Lectura de los datos iniciales\n",
    "movies_details = pd.read_json(\"./data/movies/IMDB_movie_details.json\", lines=True)\n",
    "movies_reviews = pd.read_json(\"./data/movies/IMDB_reviews.json\", lines=True)\n",
    "movies_info = pd.read_csv('./data/movies_info/IMDb movies.csv')"
   ]
  },
  {
   "cell_type": "code",
   "execution_count": 3,
   "id": "e1867e7b-d52a-4b86-819d-a50a4f1d7882",
   "metadata": {},
   "outputs": [],
   "source": [
    "# Eliminamos columnas inncesarias o repetidas para hacer \n",
    "movies_details_pre = movies_details[['movie_id', 'rating','release_date']]\n",
    "movies_info_pre = movies_info[['imdb_title_id', 'original_title',\n",
    "       'genre', 'duration', 'country', 'language', 'director', 'writer',\n",
    "       'production_company', 'actors', 'votes',\n",
    "       'budget', 'usa_gross_income', 'worlwide_gross_income', 'metascore',\n",
    "       'reviews_from_users', 'reviews_from_critics']]"
   ]
  },
  {
   "cell_type": "code",
   "execution_count": 4,
   "id": "c97786ef-c5d6-485f-82d4-b2b04d8ede30",
   "metadata": {},
   "outputs": [],
   "source": [
    "# Combinamos los datasets para tener los datos completos\n",
    "movies_data = movies_details_pre.merge(movies_info_pre, right_on=\"imdb_title_id\", left_on=\"movie_id\")\n",
    "\n",
    "# Corregimos errores de repetición y de formato de los valores\n",
    "movies_data = movies_data.drop(columns=[\"imdb_title_id\"])\n",
    "movies_data[\"budget\"] = movies_data[\"budget\"].str.split(\" \", n = 1, expand = True)[1]\n",
    "movies_data[\"budget\"] = movies_data[\"budget\"].astype('float64')\n",
    "movies_data[\"usa_gross_income\"] = movies_data[\"usa_gross_income\"].str.split(\" \", n = 1, expand = True)[1]\n",
    "movies_data[\"usa_gross_income\"] = movies_data[\"usa_gross_income\"].astype('float64')\n",
    "movies_data[\"worlwide_gross_income\"] = movies_data[\"worlwide_gross_income\"].str.split(\" \", n = 1, expand = True)[1]\n",
    "movies_data[\"worlwide_gross_income\"] = movies_data[\"worlwide_gross_income\"].astype('float64')"
   ]
  },
  {
   "cell_type": "code",
   "execution_count": 5,
   "id": "64893ebb-fe20-4730-b38b-47a890bbc1d8",
   "metadata": {},
   "outputs": [
    {
     "data": {
      "text/plain": [
       "movie_id                 False\n",
       "rating                   False\n",
       "release_date             False\n",
       "original_title           False\n",
       "genre                    False\n",
       "duration                 False\n",
       "country                  False\n",
       "language                 False\n",
       "director                 False\n",
       "writer                   False\n",
       "production_company       False\n",
       "actors                   False\n",
       "votes                    False\n",
       "budget                    True\n",
       "usa_gross_income          True\n",
       "worlwide_gross_income     True\n",
       "metascore                 True\n",
       "reviews_from_users        True\n",
       "reviews_from_critics     False\n",
       "dtype: bool"
      ]
     },
     "execution_count": 5,
     "metadata": {},
     "output_type": "execute_result"
    }
   ],
   "source": [
    "# Revisamos la existencia de valores NaN en las distintas columnas\n",
    "movies_data.isnull().any()"
   ]
  },
  {
   "cell_type": "code",
   "execution_count": 6,
   "id": "9b93b4ef-ad76-4744-815f-79df0e7bca8f",
   "metadata": {},
   "outputs": [
    {
     "data": {
      "text/html": [
       "<div>\n",
       "<style scoped>\n",
       "    .dataframe tbody tr th:only-of-type {\n",
       "        vertical-align: middle;\n",
       "    }\n",
       "\n",
       "    .dataframe tbody tr th {\n",
       "        vertical-align: top;\n",
       "    }\n",
       "\n",
       "    .dataframe thead th {\n",
       "        text-align: right;\n",
       "    }\n",
       "</style>\n",
       "<table border=\"1\" class=\"dataframe\">\n",
       "  <thead>\n",
       "    <tr style=\"text-align: right;\">\n",
       "      <th></th>\n",
       "      <th>rating</th>\n",
       "      <th>duration</th>\n",
       "      <th>votes</th>\n",
       "      <th>budget</th>\n",
       "      <th>usa_gross_income</th>\n",
       "      <th>worlwide_gross_income</th>\n",
       "      <th>metascore</th>\n",
       "      <th>reviews_from_users</th>\n",
       "      <th>reviews_from_critics</th>\n",
       "    </tr>\n",
       "  </thead>\n",
       "  <tbody>\n",
       "    <tr>\n",
       "      <th>count</th>\n",
       "      <td>1534.000000</td>\n",
       "      <td>1534.000000</td>\n",
       "      <td>1.534000e+03</td>\n",
       "      <td>1.436000e+03</td>\n",
       "      <td>1.476000e+03</td>\n",
       "      <td>1.517000e+03</td>\n",
       "      <td>1431.000000</td>\n",
       "      <td>1533.000000</td>\n",
       "      <td>1534.000000</td>\n",
       "    </tr>\n",
       "    <tr>\n",
       "      <th>mean</th>\n",
       "      <td>7.049022</td>\n",
       "      <td>116.722947</td>\n",
       "      <td>2.647611e+05</td>\n",
       "      <td>6.497236e+07</td>\n",
       "      <td>9.017659e+07</td>\n",
       "      <td>2.018458e+08</td>\n",
       "      <td>62.636618</td>\n",
       "      <td>658.522505</td>\n",
       "      <td>224.512386</td>\n",
       "    </tr>\n",
       "    <tr>\n",
       "      <th>std</th>\n",
       "      <td>0.956515</td>\n",
       "      <td>22.759115</td>\n",
       "      <td>2.682681e+05</td>\n",
       "      <td>2.763739e+08</td>\n",
       "      <td>9.706665e+07</td>\n",
       "      <td>2.561669e+08</td>\n",
       "      <td>17.657524</td>\n",
       "      <td>676.416985</td>\n",
       "      <td>162.416418</td>\n",
       "    </tr>\n",
       "    <tr>\n",
       "      <th>min</th>\n",
       "      <td>2.400000</td>\n",
       "      <td>67.000000</td>\n",
       "      <td>1.413000e+03</td>\n",
       "      <td>6.000000e+00</td>\n",
       "      <td>5.090000e+02</td>\n",
       "      <td>5.760000e+02</td>\n",
       "      <td>9.000000</td>\n",
       "      <td>5.000000</td>\n",
       "      <td>1.000000</td>\n",
       "    </tr>\n",
       "    <tr>\n",
       "      <th>25%</th>\n",
       "      <td>6.400000</td>\n",
       "      <td>101.000000</td>\n",
       "      <td>9.080425e+04</td>\n",
       "      <td>1.575000e+07</td>\n",
       "      <td>2.556240e+07</td>\n",
       "      <td>3.528179e+07</td>\n",
       "      <td>50.000000</td>\n",
       "      <td>256.000000</td>\n",
       "      <td>106.250000</td>\n",
       "    </tr>\n",
       "    <tr>\n",
       "      <th>50%</th>\n",
       "      <td>7.100000</td>\n",
       "      <td>113.000000</td>\n",
       "      <td>1.863885e+05</td>\n",
       "      <td>3.500000e+07</td>\n",
       "      <td>5.840391e+07</td>\n",
       "      <td>1.159009e+08</td>\n",
       "      <td>63.000000</td>\n",
       "      <td>468.000000</td>\n",
       "      <td>178.000000</td>\n",
       "    </tr>\n",
       "    <tr>\n",
       "      <th>75%</th>\n",
       "      <td>7.800000</td>\n",
       "      <td>128.000000</td>\n",
       "      <td>3.455498e+05</td>\n",
       "      <td>7.925000e+07</td>\n",
       "      <td>1.242690e+08</td>\n",
       "      <td>2.647710e+08</td>\n",
       "      <td>75.000000</td>\n",
       "      <td>828.000000</td>\n",
       "      <td>311.750000</td>\n",
       "    </tr>\n",
       "    <tr>\n",
       "      <th>max</th>\n",
       "      <td>9.500000</td>\n",
       "      <td>321.000000</td>\n",
       "      <td>2.278845e+06</td>\n",
       "      <td>1.000000e+10</td>\n",
       "      <td>9.366622e+08</td>\n",
       "      <td>2.790439e+09</td>\n",
       "      <td>100.000000</td>\n",
       "      <td>8232.000000</td>\n",
       "      <td>999.000000</td>\n",
       "    </tr>\n",
       "  </tbody>\n",
       "</table>\n",
       "</div>"
      ],
      "text/plain": [
       "            rating     duration         votes        budget  usa_gross_income  \\\n",
       "count  1534.000000  1534.000000  1.534000e+03  1.436000e+03      1.476000e+03   \n",
       "mean      7.049022   116.722947  2.647611e+05  6.497236e+07      9.017659e+07   \n",
       "std       0.956515    22.759115  2.682681e+05  2.763739e+08      9.706665e+07   \n",
       "min       2.400000    67.000000  1.413000e+03  6.000000e+00      5.090000e+02   \n",
       "25%       6.400000   101.000000  9.080425e+04  1.575000e+07      2.556240e+07   \n",
       "50%       7.100000   113.000000  1.863885e+05  3.500000e+07      5.840391e+07   \n",
       "75%       7.800000   128.000000  3.455498e+05  7.925000e+07      1.242690e+08   \n",
       "max       9.500000   321.000000  2.278845e+06  1.000000e+10      9.366622e+08   \n",
       "\n",
       "       worlwide_gross_income    metascore  reviews_from_users  \\\n",
       "count           1.517000e+03  1431.000000         1533.000000   \n",
       "mean            2.018458e+08    62.636618          658.522505   \n",
       "std             2.561669e+08    17.657524          676.416985   \n",
       "min             5.760000e+02     9.000000            5.000000   \n",
       "25%             3.528179e+07    50.000000          256.000000   \n",
       "50%             1.159009e+08    63.000000          468.000000   \n",
       "75%             2.647710e+08    75.000000          828.000000   \n",
       "max             2.790439e+09   100.000000         8232.000000   \n",
       "\n",
       "       reviews_from_critics  \n",
       "count           1534.000000  \n",
       "mean             224.512386  \n",
       "std              162.416418  \n",
       "min                1.000000  \n",
       "25%              106.250000  \n",
       "50%              178.000000  \n",
       "75%              311.750000  \n",
       "max              999.000000  "
      ]
     },
     "execution_count": 6,
     "metadata": {},
     "output_type": "execute_result"
    }
   ],
   "source": [
    "# Comprobamos la forma de los datos para rellenar los valores NaN\n",
    "movies_data.describe()"
   ]
  },
  {
   "cell_type": "code",
   "execution_count": 7,
   "id": "9d5c3966-2ff9-49b4-b689-7662b5cb1c83",
   "metadata": {},
   "outputs": [
    {
     "name": "stderr",
     "output_type": "stream",
     "text": [
      "C:\\Users\\ALEJAN~1\\AppData\\Local\\Temp/ipykernel_6136/2716236179.py:2: FutureWarning: Dropping of nuisance columns in DataFrame reductions (with 'numeric_only=None') is deprecated; in a future version this will raise TypeError.  Select only valid columns before calling the reduction.\n",
      "  movies_data = movies_data.fillna(movies_data.median())\n"
     ]
    },
    {
     "data": {
      "text/plain": [
       "movie_id                 False\n",
       "rating                   False\n",
       "release_date             False\n",
       "original_title           False\n",
       "genre                    False\n",
       "duration                 False\n",
       "country                  False\n",
       "language                 False\n",
       "director                 False\n",
       "writer                   False\n",
       "production_company       False\n",
       "actors                   False\n",
       "votes                    False\n",
       "budget                   False\n",
       "usa_gross_income         False\n",
       "worlwide_gross_income    False\n",
       "metascore                False\n",
       "reviews_from_users       False\n",
       "reviews_from_critics     False\n",
       "dtype: bool"
      ]
     },
     "execution_count": 7,
     "metadata": {},
     "output_type": "execute_result"
    }
   ],
   "source": [
    "# Rellenamos los valores con la mediana para que no se vean afectados por los \"outliers\" y comprobamos nuevamente\n",
    "movies_data = movies_data.fillna(movies_data.median())\n",
    "movies_data.isnull().any()"
   ]
  }
 ],
 "metadata": {
  "kernelspec": {
   "display_name": "Python 3 (ipykernel)",
   "language": "python",
   "name": "python3"
  },
  "language_info": {
   "codemirror_mode": {
    "name": "ipython",
    "version": 3
   },
   "file_extension": ".py",
   "mimetype": "text/x-python",
   "name": "python",
   "nbconvert_exporter": "python",
   "pygments_lexer": "ipython3",
   "version": "3.8.12"
  }
 },
 "nbformat": 4,
 "nbformat_minor": 5
}
